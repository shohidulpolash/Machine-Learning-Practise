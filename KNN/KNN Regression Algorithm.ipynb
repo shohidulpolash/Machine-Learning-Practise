{
 "cells": [
  {
   "cell_type": "markdown",
   "metadata": {},
   "source": [
    "![title](image/SVRBasic1.png)"
   ]
  },
  {
   "cell_type": "markdown",
   "metadata": {},
   "source": [
    "![title](image/SVRBasic2.png)"
   ]
  },
  {
   "cell_type": "markdown",
   "metadata": {},
   "source": [
    "![title](image/SVRBasic3.png)"
   ]
  },
  {
   "cell_type": "markdown",
   "metadata": {},
   "source": [
    "Regression type problems:\n",
    "       Output will be as Continuous variable like Height Weight or Price."
   ]
  },
  {
   "cell_type": "code",
   "execution_count": 1,
   "metadata": {},
   "outputs": [],
   "source": [
    "import pandas as pd"
   ]
  },
  {
   "cell_type": "code",
   "execution_count": 2,
   "metadata": {},
   "outputs": [],
   "source": [
    "df=pd.read_csv(\"bangalore house price prediction OHE-data.csv\")"
   ]
  },
  {
   "cell_type": "code",
   "execution_count": 3,
   "metadata": {},
   "outputs": [
    {
     "data": {
      "text/html": [
       "<div>\n",
       "<style scoped>\n",
       "    .dataframe tbody tr th:only-of-type {\n",
       "        vertical-align: middle;\n",
       "    }\n",
       "\n",
       "    .dataframe tbody tr th {\n",
       "        vertical-align: top;\n",
       "    }\n",
       "\n",
       "    .dataframe thead th {\n",
       "        text-align: right;\n",
       "    }\n",
       "</style>\n",
       "<table border=\"1\" class=\"dataframe\">\n",
       "  <thead>\n",
       "    <tr style=\"text-align: right;\">\n",
       "      <th></th>\n",
       "      <th>bath</th>\n",
       "      <th>balcony</th>\n",
       "      <th>price</th>\n",
       "      <th>total_sqft_int</th>\n",
       "      <th>bhk</th>\n",
       "      <th>price_per_sqft</th>\n",
       "      <th>area_typeSuper built-up  Area</th>\n",
       "      <th>area_typeBuilt-up  Area</th>\n",
       "      <th>area_typePlot  Area</th>\n",
       "      <th>availability_Ready To Move</th>\n",
       "      <th>...</th>\n",
       "      <th>location_Kalena Agrahara</th>\n",
       "      <th>location_Horamavu Agara</th>\n",
       "      <th>location_Vidyaranyapura</th>\n",
       "      <th>location_BTM 2nd Stage</th>\n",
       "      <th>location_Hebbal Kempapura</th>\n",
       "      <th>location_Hosur Road</th>\n",
       "      <th>location_Horamavu Banaswadi</th>\n",
       "      <th>location_Domlur</th>\n",
       "      <th>location_Mahadevpura</th>\n",
       "      <th>location_Tumkur Road</th>\n",
       "    </tr>\n",
       "  </thead>\n",
       "  <tbody>\n",
       "    <tr>\n",
       "      <th>0</th>\n",
       "      <td>3.0</td>\n",
       "      <td>2.0</td>\n",
       "      <td>150.00</td>\n",
       "      <td>1672.0</td>\n",
       "      <td>3</td>\n",
       "      <td>8971.291866</td>\n",
       "      <td>1</td>\n",
       "      <td>0</td>\n",
       "      <td>0</td>\n",
       "      <td>1</td>\n",
       "      <td>...</td>\n",
       "      <td>0</td>\n",
       "      <td>0</td>\n",
       "      <td>0</td>\n",
       "      <td>0</td>\n",
       "      <td>0</td>\n",
       "      <td>0</td>\n",
       "      <td>0</td>\n",
       "      <td>0</td>\n",
       "      <td>0</td>\n",
       "      <td>0</td>\n",
       "    </tr>\n",
       "    <tr>\n",
       "      <th>1</th>\n",
       "      <td>3.0</td>\n",
       "      <td>3.0</td>\n",
       "      <td>149.00</td>\n",
       "      <td>1750.0</td>\n",
       "      <td>3</td>\n",
       "      <td>8514.285714</td>\n",
       "      <td>0</td>\n",
       "      <td>1</td>\n",
       "      <td>0</td>\n",
       "      <td>1</td>\n",
       "      <td>...</td>\n",
       "      <td>0</td>\n",
       "      <td>0</td>\n",
       "      <td>0</td>\n",
       "      <td>0</td>\n",
       "      <td>0</td>\n",
       "      <td>0</td>\n",
       "      <td>0</td>\n",
       "      <td>0</td>\n",
       "      <td>0</td>\n",
       "      <td>0</td>\n",
       "    </tr>\n",
       "    <tr>\n",
       "      <th>2</th>\n",
       "      <td>3.0</td>\n",
       "      <td>2.0</td>\n",
       "      <td>150.00</td>\n",
       "      <td>1750.0</td>\n",
       "      <td>3</td>\n",
       "      <td>8571.428571</td>\n",
       "      <td>1</td>\n",
       "      <td>0</td>\n",
       "      <td>0</td>\n",
       "      <td>1</td>\n",
       "      <td>...</td>\n",
       "      <td>0</td>\n",
       "      <td>0</td>\n",
       "      <td>0</td>\n",
       "      <td>0</td>\n",
       "      <td>0</td>\n",
       "      <td>0</td>\n",
       "      <td>0</td>\n",
       "      <td>0</td>\n",
       "      <td>0</td>\n",
       "      <td>0</td>\n",
       "    </tr>\n",
       "    <tr>\n",
       "      <th>3</th>\n",
       "      <td>2.0</td>\n",
       "      <td>2.0</td>\n",
       "      <td>40.00</td>\n",
       "      <td>1250.0</td>\n",
       "      <td>2</td>\n",
       "      <td>3200.000000</td>\n",
       "      <td>1</td>\n",
       "      <td>0</td>\n",
       "      <td>0</td>\n",
       "      <td>1</td>\n",
       "      <td>...</td>\n",
       "      <td>0</td>\n",
       "      <td>0</td>\n",
       "      <td>0</td>\n",
       "      <td>0</td>\n",
       "      <td>0</td>\n",
       "      <td>0</td>\n",
       "      <td>0</td>\n",
       "      <td>0</td>\n",
       "      <td>0</td>\n",
       "      <td>0</td>\n",
       "    </tr>\n",
       "    <tr>\n",
       "      <th>4</th>\n",
       "      <td>2.0</td>\n",
       "      <td>2.0</td>\n",
       "      <td>83.00</td>\n",
       "      <td>1200.0</td>\n",
       "      <td>2</td>\n",
       "      <td>6916.666667</td>\n",
       "      <td>0</td>\n",
       "      <td>0</td>\n",
       "      <td>1</td>\n",
       "      <td>1</td>\n",
       "      <td>...</td>\n",
       "      <td>0</td>\n",
       "      <td>0</td>\n",
       "      <td>0</td>\n",
       "      <td>0</td>\n",
       "      <td>0</td>\n",
       "      <td>0</td>\n",
       "      <td>0</td>\n",
       "      <td>0</td>\n",
       "      <td>0</td>\n",
       "      <td>0</td>\n",
       "    </tr>\n",
       "    <tr>\n",
       "      <th>...</th>\n",
       "      <td>...</td>\n",
       "      <td>...</td>\n",
       "      <td>...</td>\n",
       "      <td>...</td>\n",
       "      <td>...</td>\n",
       "      <td>...</td>\n",
       "      <td>...</td>\n",
       "      <td>...</td>\n",
       "      <td>...</td>\n",
       "      <td>...</td>\n",
       "      <td>...</td>\n",
       "      <td>...</td>\n",
       "      <td>...</td>\n",
       "      <td>...</td>\n",
       "      <td>...</td>\n",
       "      <td>...</td>\n",
       "      <td>...</td>\n",
       "      <td>...</td>\n",
       "      <td>...</td>\n",
       "      <td>...</td>\n",
       "      <td>...</td>\n",
       "    </tr>\n",
       "    <tr>\n",
       "      <th>7115</th>\n",
       "      <td>3.0</td>\n",
       "      <td>2.0</td>\n",
       "      <td>325.00</td>\n",
       "      <td>2900.0</td>\n",
       "      <td>3</td>\n",
       "      <td>11206.896552</td>\n",
       "      <td>1</td>\n",
       "      <td>0</td>\n",
       "      <td>0</td>\n",
       "      <td>1</td>\n",
       "      <td>...</td>\n",
       "      <td>0</td>\n",
       "      <td>0</td>\n",
       "      <td>0</td>\n",
       "      <td>0</td>\n",
       "      <td>0</td>\n",
       "      <td>0</td>\n",
       "      <td>0</td>\n",
       "      <td>0</td>\n",
       "      <td>0</td>\n",
       "      <td>0</td>\n",
       "    </tr>\n",
       "    <tr>\n",
       "      <th>7116</th>\n",
       "      <td>3.0</td>\n",
       "      <td>1.0</td>\n",
       "      <td>84.83</td>\n",
       "      <td>1780.0</td>\n",
       "      <td>3</td>\n",
       "      <td>4765.730337</td>\n",
       "      <td>1</td>\n",
       "      <td>0</td>\n",
       "      <td>0</td>\n",
       "      <td>0</td>\n",
       "      <td>...</td>\n",
       "      <td>0</td>\n",
       "      <td>0</td>\n",
       "      <td>0</td>\n",
       "      <td>0</td>\n",
       "      <td>0</td>\n",
       "      <td>0</td>\n",
       "      <td>0</td>\n",
       "      <td>0</td>\n",
       "      <td>0</td>\n",
       "      <td>0</td>\n",
       "    </tr>\n",
       "    <tr>\n",
       "      <th>7117</th>\n",
       "      <td>2.0</td>\n",
       "      <td>1.0</td>\n",
       "      <td>48.00</td>\n",
       "      <td>880.0</td>\n",
       "      <td>2</td>\n",
       "      <td>5454.545455</td>\n",
       "      <td>0</td>\n",
       "      <td>0</td>\n",
       "      <td>1</td>\n",
       "      <td>1</td>\n",
       "      <td>...</td>\n",
       "      <td>0</td>\n",
       "      <td>0</td>\n",
       "      <td>0</td>\n",
       "      <td>0</td>\n",
       "      <td>0</td>\n",
       "      <td>0</td>\n",
       "      <td>0</td>\n",
       "      <td>0</td>\n",
       "      <td>0</td>\n",
       "      <td>0</td>\n",
       "    </tr>\n",
       "    <tr>\n",
       "      <th>7118</th>\n",
       "      <td>2.0</td>\n",
       "      <td>1.0</td>\n",
       "      <td>55.00</td>\n",
       "      <td>1000.0</td>\n",
       "      <td>2</td>\n",
       "      <td>5500.000000</td>\n",
       "      <td>0</td>\n",
       "      <td>0</td>\n",
       "      <td>1</td>\n",
       "      <td>0</td>\n",
       "      <td>...</td>\n",
       "      <td>0</td>\n",
       "      <td>0</td>\n",
       "      <td>0</td>\n",
       "      <td>0</td>\n",
       "      <td>0</td>\n",
       "      <td>0</td>\n",
       "      <td>0</td>\n",
       "      <td>0</td>\n",
       "      <td>0</td>\n",
       "      <td>0</td>\n",
       "    </tr>\n",
       "    <tr>\n",
       "      <th>7119</th>\n",
       "      <td>2.0</td>\n",
       "      <td>1.0</td>\n",
       "      <td>78.00</td>\n",
       "      <td>1400.0</td>\n",
       "      <td>3</td>\n",
       "      <td>5571.428571</td>\n",
       "      <td>0</td>\n",
       "      <td>0</td>\n",
       "      <td>1</td>\n",
       "      <td>0</td>\n",
       "      <td>...</td>\n",
       "      <td>0</td>\n",
       "      <td>0</td>\n",
       "      <td>0</td>\n",
       "      <td>0</td>\n",
       "      <td>0</td>\n",
       "      <td>0</td>\n",
       "      <td>0</td>\n",
       "      <td>0</td>\n",
       "      <td>0</td>\n",
       "      <td>0</td>\n",
       "    </tr>\n",
       "  </tbody>\n",
       "</table>\n",
       "<p>7120 rows × 108 columns</p>\n",
       "</div>"
      ],
      "text/plain": [
       "      bath  balcony   price  total_sqft_int  bhk  price_per_sqft  \\\n",
       "0      3.0      2.0  150.00          1672.0    3     8971.291866   \n",
       "1      3.0      3.0  149.00          1750.0    3     8514.285714   \n",
       "2      3.0      2.0  150.00          1750.0    3     8571.428571   \n",
       "3      2.0      2.0   40.00          1250.0    2     3200.000000   \n",
       "4      2.0      2.0   83.00          1200.0    2     6916.666667   \n",
       "...    ...      ...     ...             ...  ...             ...   \n",
       "7115   3.0      2.0  325.00          2900.0    3    11206.896552   \n",
       "7116   3.0      1.0   84.83          1780.0    3     4765.730337   \n",
       "7117   2.0      1.0   48.00           880.0    2     5454.545455   \n",
       "7118   2.0      1.0   55.00          1000.0    2     5500.000000   \n",
       "7119   2.0      1.0   78.00          1400.0    3     5571.428571   \n",
       "\n",
       "      area_typeSuper built-up  Area  area_typeBuilt-up  Area  \\\n",
       "0                                 1                        0   \n",
       "1                                 0                        1   \n",
       "2                                 1                        0   \n",
       "3                                 1                        0   \n",
       "4                                 0                        0   \n",
       "...                             ...                      ...   \n",
       "7115                              1                        0   \n",
       "7116                              1                        0   \n",
       "7117                              0                        0   \n",
       "7118                              0                        0   \n",
       "7119                              0                        0   \n",
       "\n",
       "      area_typePlot  Area  availability_Ready To Move  ...  \\\n",
       "0                       0                           1  ...   \n",
       "1                       0                           1  ...   \n",
       "2                       0                           1  ...   \n",
       "3                       0                           1  ...   \n",
       "4                       1                           1  ...   \n",
       "...                   ...                         ...  ...   \n",
       "7115                    0                           1  ...   \n",
       "7116                    0                           0  ...   \n",
       "7117                    1                           1  ...   \n",
       "7118                    1                           0  ...   \n",
       "7119                    1                           0  ...   \n",
       "\n",
       "      location_Kalena Agrahara  location_Horamavu Agara  \\\n",
       "0                            0                        0   \n",
       "1                            0                        0   \n",
       "2                            0                        0   \n",
       "3                            0                        0   \n",
       "4                            0                        0   \n",
       "...                        ...                      ...   \n",
       "7115                         0                        0   \n",
       "7116                         0                        0   \n",
       "7117                         0                        0   \n",
       "7118                         0                        0   \n",
       "7119                         0                        0   \n",
       "\n",
       "      location_Vidyaranyapura  location_BTM 2nd Stage  \\\n",
       "0                           0                       0   \n",
       "1                           0                       0   \n",
       "2                           0                       0   \n",
       "3                           0                       0   \n",
       "4                           0                       0   \n",
       "...                       ...                     ...   \n",
       "7115                        0                       0   \n",
       "7116                        0                       0   \n",
       "7117                        0                       0   \n",
       "7118                        0                       0   \n",
       "7119                        0                       0   \n",
       "\n",
       "      location_Hebbal Kempapura  location_Hosur Road  \\\n",
       "0                             0                    0   \n",
       "1                             0                    0   \n",
       "2                             0                    0   \n",
       "3                             0                    0   \n",
       "4                             0                    0   \n",
       "...                         ...                  ...   \n",
       "7115                          0                    0   \n",
       "7116                          0                    0   \n",
       "7117                          0                    0   \n",
       "7118                          0                    0   \n",
       "7119                          0                    0   \n",
       "\n",
       "      location_Horamavu Banaswadi  location_Domlur  location_Mahadevpura  \\\n",
       "0                               0                0                     0   \n",
       "1                               0                0                     0   \n",
       "2                               0                0                     0   \n",
       "3                               0                0                     0   \n",
       "4                               0                0                     0   \n",
       "...                           ...              ...                   ...   \n",
       "7115                            0                0                     0   \n",
       "7116                            0                0                     0   \n",
       "7117                            0                0                     0   \n",
       "7118                            0                0                     0   \n",
       "7119                            0                0                     0   \n",
       "\n",
       "      location_Tumkur Road  \n",
       "0                        0  \n",
       "1                        0  \n",
       "2                        0  \n",
       "3                        0  \n",
       "4                        0  \n",
       "...                    ...  \n",
       "7115                     0  \n",
       "7116                     0  \n",
       "7117                     0  \n",
       "7118                     0  \n",
       "7119                     0  \n",
       "\n",
       "[7120 rows x 108 columns]"
      ]
     },
     "execution_count": 3,
     "metadata": {},
     "output_type": "execute_result"
    }
   ],
   "source": [
    "df"
   ]
  },
  {
   "cell_type": "markdown",
   "metadata": {},
   "source": [
    "# Data Split"
   ]
  },
  {
   "cell_type": "code",
   "execution_count": 4,
   "metadata": {},
   "outputs": [],
   "source": [
    "x=df.drop(['price'],axis=1)"
   ]
  },
  {
   "cell_type": "code",
   "execution_count": 5,
   "metadata": {},
   "outputs": [],
   "source": [
    "y=df['price']"
   ]
  },
  {
   "cell_type": "code",
   "execution_count": 6,
   "metadata": {
    "scrolled": true
   },
   "outputs": [
    {
     "data": {
      "text/plain": [
       "0       150.00\n",
       "1       149.00\n",
       "2       150.00\n",
       "3        40.00\n",
       "4        83.00\n",
       "         ...  \n",
       "7115    325.00\n",
       "7116     84.83\n",
       "7117     48.00\n",
       "7118     55.00\n",
       "7119     78.00\n",
       "Name: price, Length: 7120, dtype: float64"
      ]
     },
     "execution_count": 6,
     "metadata": {},
     "output_type": "execute_result"
    }
   ],
   "source": [
    "y"
   ]
  },
  {
   "cell_type": "code",
   "execution_count": 7,
   "metadata": {},
   "outputs": [],
   "source": [
    "from sklearn.model_selection import train_test_split"
   ]
  },
  {
   "cell_type": "code",
   "execution_count": 8,
   "metadata": {},
   "outputs": [],
   "source": [
    "xtrain,xtest,ytrain,ytest=train_test_split(x,y,test_size=.2,random_state=1)"
   ]
  },
  {
   "cell_type": "markdown",
   "metadata": {},
   "source": [
    "# Feature Scaling"
   ]
  },
  {
   "cell_type": "code",
   "execution_count": 9,
   "metadata": {},
   "outputs": [],
   "source": [
    "from sklearn.preprocessing import StandardScaler"
   ]
  },
  {
   "cell_type": "code",
   "execution_count": 10,
   "metadata": {},
   "outputs": [],
   "source": [
    "sc=StandardScaler()"
   ]
  },
  {
   "cell_type": "code",
   "execution_count": 11,
   "metadata": {},
   "outputs": [
    {
     "data": {
      "text/plain": [
       "StandardScaler()"
      ]
     },
     "execution_count": 11,
     "metadata": {},
     "output_type": "execute_result"
    }
   ],
   "source": [
    "sc.fit(xtrain)"
   ]
  },
  {
   "cell_type": "code",
   "execution_count": 12,
   "metadata": {},
   "outputs": [],
   "source": [
    "xtrain_sc=sc.transform(xtrain)\n",
    "xtest_sc=sc.transform(xtest)"
   ]
  },
  {
   "cell_type": "code",
   "execution_count": 13,
   "metadata": {},
   "outputs": [
    {
     "data": {
      "text/plain": [
       "array([[ 0.69102142,  0.01369791, -0.19859381, ..., -0.05471275,\n",
       "        -0.04782807, -0.04594768],\n",
       "       [-0.44623891, -2.0403673 , -0.31904169, ..., -0.05471275,\n",
       "        -0.04782807, -0.04594768],\n",
       "       [-0.44623891,  0.55253431, -0.46243203, ..., -0.05471275,\n",
       "        -0.04782807, -0.04594768],\n",
       "       ...,\n",
       "       [ 5.24006273,  0.55253431,  1.51635463, ..., -0.05471275,\n",
       "        -0.04782807, -0.04594768],\n",
       "       [ 0.69102142, -0.74391649,  0.36923193, ..., -0.05471275,\n",
       "        -0.04782807, -0.04594768],\n",
       "       [-0.44623891, -0.74391649, -0.31904169, ..., -0.05471275,\n",
       "        -0.04782807, -0.04594768]])"
      ]
     },
     "execution_count": 13,
     "metadata": {},
     "output_type": "execute_result"
    }
   ],
   "source": [
    "xtrain_sc"
   ]
  },
  {
   "cell_type": "code",
   "execution_count": null,
   "metadata": {},
   "outputs": [],
   "source": []
  },
  {
   "cell_type": "markdown",
   "metadata": {},
   "source": [
    "# Support Vector Regression  (RBF = Radial basis function )\n",
    "SVR(\n",
    "    *,\n",
    "    kernel='rbf',\n",
    "    degree=3,\n",
    "    gamma='scale',\n",
    "    coef0=0.0,\n",
    "    tol=0.001,\n",
    "    C=1.0,\n",
    "    epsilon=0.1,\n",
    "    shrinking=True,\n",
    "    cache_size=200,\n",
    "    verbose=False,\n",
    "    max_iter=-1,\n",
    ")"
   ]
  },
  {
   "cell_type": "code",
   "execution_count": 14,
   "metadata": {},
   "outputs": [],
   "source": [
    "from sklearn.svm import SVR"
   ]
  },
  {
   "cell_type": "code",
   "execution_count": 15,
   "metadata": {},
   "outputs": [
    {
     "data": {
      "text/plain": [
       "0.2408273404457042"
      ]
     },
     "execution_count": 15,
     "metadata": {},
     "output_type": "execute_result"
    }
   ],
   "source": [
    "SVR_sc_rbf=SVR(kernel='rbf')\n",
    "SVR_sc_rbf.fit(xtrain_sc,ytrain)\n",
    "SVR_sc_rbf.score(xtest_sc,ytest)"
   ]
  },
  {
   "cell_type": "code",
   "execution_count": null,
   "metadata": {},
   "outputs": [],
   "source": []
  },
  {
   "cell_type": "markdown",
   "metadata": {},
   "source": [
    "All test data comparing with predicted price."
   ]
  },
  {
   "cell_type": "code",
   "execution_count": 16,
   "metadata": {},
   "outputs": [
    {
     "data": {
      "text/plain": [
       "array([ 75.56691034,  59.59822344,  46.60916309, ...,  50.51483875,\n",
       "       148.87685426,  85.72434421])"
      ]
     },
     "execution_count": 16,
     "metadata": {},
     "output_type": "execute_result"
    }
   ],
   "source": [
    "pred=SVR_sc_rbf.predict(xtest_sc)\n",
    "pred"
   ]
  },
  {
   "cell_type": "code",
   "execution_count": 17,
   "metadata": {},
   "outputs": [
    {
     "data": {
      "text/plain": [
       "6711     70.0\n",
       "823      58.4\n",
       "3500     25.0\n",
       "1537     36.0\n",
       "513      38.3\n",
       "        ...  \n",
       "4008     58.0\n",
       "1564     58.4\n",
       "6803     50.0\n",
       "5390    399.0\n",
       "3315    314.5\n",
       "Name: price, Length: 1424, dtype: float64"
      ]
     },
     "execution_count": 17,
     "metadata": {},
     "output_type": "execute_result"
    }
   ],
   "source": [
    "ytest"
   ]
  },
  {
   "cell_type": "markdown",
   "metadata": {},
   "source": [
    "# Support Vector Regression using LINEAR kernel"
   ]
  },
  {
   "cell_type": "code",
   "execution_count": 18,
   "metadata": {},
   "outputs": [
    {
     "data": {
      "text/plain": [
       "0.8720271479518515"
      ]
     },
     "execution_count": 18,
     "metadata": {},
     "output_type": "execute_result"
    }
   ],
   "source": [
    "SVR_sc_linear=SVR(kernel='linear',epsilon=10)\n",
    "SVR_sc_linear.fit(xtrain_sc,ytrain)\n",
    "SVR_sc_linear.score(xtest_sc,ytest)"
   ]
  },
  {
   "cell_type": "markdown",
   "metadata": {},
   "source": [
    "Single house price predict"
   ]
  },
  {
   "cell_type": "code",
   "execution_count": 19,
   "metadata": {},
   "outputs": [
    {
     "data": {
      "text/plain": [
       "array([-0.44623891, -0.74391649, -0.37639783, -0.55309608,  0.0629791 ,\n",
       "        0.5749176 , -0.47011435, -0.25781186,  0.50405664,  5.4127509 ,\n",
       "       -0.15873873, -0.14979193, -0.12160223, -0.12953656, -0.12812824,\n",
       "       -0.12234347, -0.12598816, -0.12234347, -0.1208567 , -0.11472827,\n",
       "       -0.1082724 , -0.10909925, -0.11314714, -0.10660036, -0.08823182,\n",
       "       -0.09218776, -0.09023078, -0.08923672, -0.07975227, -0.08823182,\n",
       "       -0.08514823, -0.08085949, -0.08409599, -0.07749158, -0.08085949,\n",
       "       -0.07862985, -0.07633675, -0.07749158, -0.0739743 , -0.07153563,\n",
       "       -0.0751646 , -0.07153563, -0.07028523, -0.07749158, -0.0751646 ,\n",
       "       -0.06901264, -0.07028523, -0.07276497, -0.07028523, -0.07028523,\n",
       "       -0.07028523, -0.0677166 , -0.06901264, -0.06639573, -0.0677166 ,\n",
       "       -0.06226825, -0.0677166 , -0.06504853, -0.0677166 , -0.06639573,\n",
       "       -0.06226825, -0.06639573, -0.06226825, -0.06639573, -0.05935999,\n",
       "       -0.06083125, -0.06367332, -0.06226825, -0.05785186, -0.06367332,\n",
       "       -0.06226825, -0.06083125, -0.06226825, -0.06226825, -0.05785186,\n",
       "       -0.06639573, -0.05785186, -0.05935999, -0.05785186, -0.05935999,\n",
       "       -0.06083125, -0.05471275, -0.05785186, -0.05935999, -0.06083125,\n",
       "       -0.05138463, -0.06083125, -0.06083125, -0.05935999, -0.05935999,\n",
       "       -0.06226825, -0.05935999, -0.06083125, -0.05471275, -0.05630391,\n",
       "       -0.05785186, -0.05630391, -0.05138463, -0.05307449, -0.05630391,\n",
       "       -0.05471275, -0.05935999, -0.05471275, -0.05307449, -0.05471275,\n",
       "       -0.04782807, -0.04594768])"
      ]
     },
     "execution_count": 19,
     "metadata": {},
     "output_type": "execute_result"
    }
   ],
   "source": [
    "xtest_sc[0]"
   ]
  },
  {
   "cell_type": "code",
   "execution_count": 20,
   "metadata": {},
   "outputs": [
    {
     "data": {
      "text/plain": [
       "array([71.87542403])"
      ]
     },
     "execution_count": 20,
     "metadata": {},
     "output_type": "execute_result"
    }
   ],
   "source": [
    "SVR_sc_linear.predict([xtest_sc[0]])"
   ]
  },
  {
   "cell_type": "code",
   "execution_count": null,
   "metadata": {},
   "outputs": [],
   "source": []
  },
  {
   "cell_type": "markdown",
   "metadata": {},
   "source": [
    "Check  all house's prices"
   ]
  },
  {
   "cell_type": "code",
   "execution_count": 21,
   "metadata": {},
   "outputs": [
    {
     "data": {
      "text/plain": [
       "array([ 71.87542403,  59.80331073,   2.07385452, ...,  50.37184906,\n",
       "       339.06140628, 324.79031699])"
      ]
     },
     "execution_count": 21,
     "metadata": {},
     "output_type": "execute_result"
    }
   ],
   "source": [
    "pred=SVR_sc_linear.predict(xtest_sc)\n",
    "pred"
   ]
  },
  {
   "cell_type": "code",
   "execution_count": 22,
   "metadata": {},
   "outputs": [
    {
     "data": {
      "text/plain": [
       "6711     70.0\n",
       "823      58.4\n",
       "3500     25.0\n",
       "1537     36.0\n",
       "513      38.3\n",
       "        ...  \n",
       "4008     58.0\n",
       "1564     58.4\n",
       "6803     50.0\n",
       "5390    399.0\n",
       "3315    314.5\n",
       "Name: price, Length: 1424, dtype: float64"
      ]
     },
     "execution_count": 22,
     "metadata": {},
     "output_type": "execute_result"
    }
   ],
   "source": [
    "ytest"
   ]
  },
  {
   "cell_type": "markdown",
   "metadata": {},
   "source": [
    "# Support Vector Regression using POLY kernel"
   ]
  },
  {
   "cell_type": "code",
   "execution_count": 23,
   "metadata": {},
   "outputs": [
    {
     "data": {
      "text/plain": [
       "0.7448927502546929"
      ]
     },
     "execution_count": 23,
     "metadata": {},
     "output_type": "execute_result"
    }
   ],
   "source": [
    "SVR_sc_poly=SVR(kernel='poly',degree=2,C=100) # c=Regularization parameter\n",
    "SVR_sc_poly.fit(xtrain_sc,ytrain)\n",
    "SVR_sc_poly.score(xtest_sc,ytest)"
   ]
  },
  {
   "cell_type": "code",
   "execution_count": 24,
   "metadata": {},
   "outputs": [
    {
     "data": {
      "text/plain": [
       "array([ 83.30288464,  69.2523575 ,  51.2743235 , ...,  73.50667013,\n",
       "       379.18230042, 219.83897605])"
      ]
     },
     "execution_count": 24,
     "metadata": {},
     "output_type": "execute_result"
    }
   ],
   "source": [
    "pred=SVR_sc_poly.predict(xtest_sc)\n",
    "pred"
   ]
  },
  {
   "cell_type": "code",
   "execution_count": 25,
   "metadata": {},
   "outputs": [
    {
     "data": {
      "text/plain": [
       "6711     70.0\n",
       "823      58.4\n",
       "3500     25.0\n",
       "1537     36.0\n",
       "513      38.3\n",
       "        ...  \n",
       "4008     58.0\n",
       "1564     58.4\n",
       "6803     50.0\n",
       "5390    399.0\n",
       "3315    314.5\n",
       "Name: price, Length: 1424, dtype: float64"
      ]
     },
     "execution_count": 25,
     "metadata": {},
     "output_type": "execute_result"
    }
   ],
   "source": [
    "ytest"
   ]
  },
  {
   "cell_type": "code",
   "execution_count": null,
   "metadata": {},
   "outputs": [],
   "source": []
  }
 ],
 "metadata": {
  "kernelspec": {
   "display_name": "Python 3",
   "language": "python",
   "name": "python3"
  },
  "language_info": {
   "codemirror_mode": {
    "name": "ipython",
    "version": 3
   },
   "file_extension": ".py",
   "mimetype": "text/x-python",
   "name": "python",
   "nbconvert_exporter": "python",
   "pygments_lexer": "ipython3",
   "version": "3.8.5"
  }
 },
 "nbformat": 4,
 "nbformat_minor": 4
}
