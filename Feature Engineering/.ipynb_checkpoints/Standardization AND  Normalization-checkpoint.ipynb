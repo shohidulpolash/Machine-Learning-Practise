{
 "cells": [
  {
   "cell_type": "markdown",
   "metadata": {},
   "source": [
    "![title](image/FeatureEngineeringBasic1.png)"
   ]
  },
  {
   "cell_type": "markdown",
   "metadata": {},
   "source": [
    "![title](image/FeatureEngineeringBasic2.png)"
   ]
  },
  {
   "cell_type": "markdown",
   "metadata": {},
   "source": [
    "![title](image/FeatureEngineeringBasic3.png)"
   ]
  },
  {
   "cell_type": "markdown",
   "metadata": {},
   "source": [
    "![title](image/FeatureEngineeringBasic4.png)"
   ]
  },
  {
   "cell_type": "code",
   "execution_count": 2,
   "metadata": {},
   "outputs": [],
   "source": [
    "import pandas as pd\n",
    "import seaborn as sns"
   ]
  },
  {
   "cell_type": "code",
   "execution_count": 3,
   "metadata": {},
   "outputs": [],
   "source": [
    "df=sns.load_dataset(\"titanic\")"
   ]
  },
  {
   "cell_type": "code",
   "execution_count": 4,
   "metadata": {},
   "outputs": [],
   "source": [
    "df1=df[['survived','pclass','age','parch']]"
   ]
  },
  {
   "cell_type": "code",
   "execution_count": 5,
   "metadata": {},
   "outputs": [
    {
     "data": {
      "text/html": [
       "<div>\n",
       "<style scoped>\n",
       "    .dataframe tbody tr th:only-of-type {\n",
       "        vertical-align: middle;\n",
       "    }\n",
       "\n",
       "    .dataframe tbody tr th {\n",
       "        vertical-align: top;\n",
       "    }\n",
       "\n",
       "    .dataframe thead th {\n",
       "        text-align: right;\n",
       "    }\n",
       "</style>\n",
       "<table border=\"1\" class=\"dataframe\">\n",
       "  <thead>\n",
       "    <tr style=\"text-align: right;\">\n",
       "      <th></th>\n",
       "      <th>survived</th>\n",
       "      <th>pclass</th>\n",
       "      <th>age</th>\n",
       "      <th>parch</th>\n",
       "    </tr>\n",
       "  </thead>\n",
       "  <tbody>\n",
       "    <tr>\n",
       "      <th>0</th>\n",
       "      <td>0</td>\n",
       "      <td>3</td>\n",
       "      <td>22.0</td>\n",
       "      <td>0</td>\n",
       "    </tr>\n",
       "    <tr>\n",
       "      <th>1</th>\n",
       "      <td>1</td>\n",
       "      <td>1</td>\n",
       "      <td>38.0</td>\n",
       "      <td>0</td>\n",
       "    </tr>\n",
       "    <tr>\n",
       "      <th>2</th>\n",
       "      <td>1</td>\n",
       "      <td>3</td>\n",
       "      <td>26.0</td>\n",
       "      <td>0</td>\n",
       "    </tr>\n",
       "    <tr>\n",
       "      <th>3</th>\n",
       "      <td>1</td>\n",
       "      <td>1</td>\n",
       "      <td>35.0</td>\n",
       "      <td>0</td>\n",
       "    </tr>\n",
       "    <tr>\n",
       "      <th>4</th>\n",
       "      <td>0</td>\n",
       "      <td>3</td>\n",
       "      <td>35.0</td>\n",
       "      <td>0</td>\n",
       "    </tr>\n",
       "    <tr>\n",
       "      <th>...</th>\n",
       "      <td>...</td>\n",
       "      <td>...</td>\n",
       "      <td>...</td>\n",
       "      <td>...</td>\n",
       "    </tr>\n",
       "    <tr>\n",
       "      <th>886</th>\n",
       "      <td>0</td>\n",
       "      <td>2</td>\n",
       "      <td>27.0</td>\n",
       "      <td>0</td>\n",
       "    </tr>\n",
       "    <tr>\n",
       "      <th>887</th>\n",
       "      <td>1</td>\n",
       "      <td>1</td>\n",
       "      <td>19.0</td>\n",
       "      <td>0</td>\n",
       "    </tr>\n",
       "    <tr>\n",
       "      <th>888</th>\n",
       "      <td>0</td>\n",
       "      <td>3</td>\n",
       "      <td>NaN</td>\n",
       "      <td>2</td>\n",
       "    </tr>\n",
       "    <tr>\n",
       "      <th>889</th>\n",
       "      <td>1</td>\n",
       "      <td>1</td>\n",
       "      <td>26.0</td>\n",
       "      <td>0</td>\n",
       "    </tr>\n",
       "    <tr>\n",
       "      <th>890</th>\n",
       "      <td>0</td>\n",
       "      <td>3</td>\n",
       "      <td>32.0</td>\n",
       "      <td>0</td>\n",
       "    </tr>\n",
       "  </tbody>\n",
       "</table>\n",
       "<p>891 rows × 4 columns</p>\n",
       "</div>"
      ],
      "text/plain": [
       "     survived  pclass   age  parch\n",
       "0           0       3  22.0      0\n",
       "1           1       1  38.0      0\n",
       "2           1       3  26.0      0\n",
       "3           1       1  35.0      0\n",
       "4           0       3  35.0      0\n",
       "..        ...     ...   ...    ...\n",
       "886         0       2  27.0      0\n",
       "887         1       1  19.0      0\n",
       "888         0       3   NaN      2\n",
       "889         1       1  26.0      0\n",
       "890         0       3  32.0      0\n",
       "\n",
       "[891 rows x 4 columns]"
      ]
     },
     "execution_count": 5,
     "metadata": {},
     "output_type": "execute_result"
    }
   ],
   "source": [
    "df1"
   ]
  },
  {
   "cell_type": "code",
   "execution_count": 6,
   "metadata": {},
   "outputs": [
    {
     "data": {
      "text/plain": [
       "survived      0\n",
       "pclass        0\n",
       "age         177\n",
       "parch         0\n",
       "dtype: int64"
      ]
     },
     "execution_count": 6,
     "metadata": {},
     "output_type": "execute_result"
    }
   ],
   "source": [
    "df1.isnull().sum()"
   ]
  },
  {
   "cell_type": "code",
   "execution_count": 7,
   "metadata": {},
   "outputs": [],
   "source": [
    "df2=df1.fillna(df1.mean())"
   ]
  },
  {
   "cell_type": "code",
   "execution_count": 8,
   "metadata": {},
   "outputs": [
    {
     "data": {
      "text/html": [
       "<div>\n",
       "<style scoped>\n",
       "    .dataframe tbody tr th:only-of-type {\n",
       "        vertical-align: middle;\n",
       "    }\n",
       "\n",
       "    .dataframe tbody tr th {\n",
       "        vertical-align: top;\n",
       "    }\n",
       "\n",
       "    .dataframe thead th {\n",
       "        text-align: right;\n",
       "    }\n",
       "</style>\n",
       "<table border=\"1\" class=\"dataframe\">\n",
       "  <thead>\n",
       "    <tr style=\"text-align: right;\">\n",
       "      <th></th>\n",
       "      <th>survived</th>\n",
       "      <th>pclass</th>\n",
       "      <th>age</th>\n",
       "      <th>parch</th>\n",
       "    </tr>\n",
       "  </thead>\n",
       "  <tbody>\n",
       "    <tr>\n",
       "      <th>0</th>\n",
       "      <td>0</td>\n",
       "      <td>3</td>\n",
       "      <td>22.000000</td>\n",
       "      <td>0</td>\n",
       "    </tr>\n",
       "    <tr>\n",
       "      <th>1</th>\n",
       "      <td>1</td>\n",
       "      <td>1</td>\n",
       "      <td>38.000000</td>\n",
       "      <td>0</td>\n",
       "    </tr>\n",
       "    <tr>\n",
       "      <th>2</th>\n",
       "      <td>1</td>\n",
       "      <td>3</td>\n",
       "      <td>26.000000</td>\n",
       "      <td>0</td>\n",
       "    </tr>\n",
       "    <tr>\n",
       "      <th>3</th>\n",
       "      <td>1</td>\n",
       "      <td>1</td>\n",
       "      <td>35.000000</td>\n",
       "      <td>0</td>\n",
       "    </tr>\n",
       "    <tr>\n",
       "      <th>4</th>\n",
       "      <td>0</td>\n",
       "      <td>3</td>\n",
       "      <td>35.000000</td>\n",
       "      <td>0</td>\n",
       "    </tr>\n",
       "    <tr>\n",
       "      <th>...</th>\n",
       "      <td>...</td>\n",
       "      <td>...</td>\n",
       "      <td>...</td>\n",
       "      <td>...</td>\n",
       "    </tr>\n",
       "    <tr>\n",
       "      <th>886</th>\n",
       "      <td>0</td>\n",
       "      <td>2</td>\n",
       "      <td>27.000000</td>\n",
       "      <td>0</td>\n",
       "    </tr>\n",
       "    <tr>\n",
       "      <th>887</th>\n",
       "      <td>1</td>\n",
       "      <td>1</td>\n",
       "      <td>19.000000</td>\n",
       "      <td>0</td>\n",
       "    </tr>\n",
       "    <tr>\n",
       "      <th>888</th>\n",
       "      <td>0</td>\n",
       "      <td>3</td>\n",
       "      <td>29.699118</td>\n",
       "      <td>2</td>\n",
       "    </tr>\n",
       "    <tr>\n",
       "      <th>889</th>\n",
       "      <td>1</td>\n",
       "      <td>1</td>\n",
       "      <td>26.000000</td>\n",
       "      <td>0</td>\n",
       "    </tr>\n",
       "    <tr>\n",
       "      <th>890</th>\n",
       "      <td>0</td>\n",
       "      <td>3</td>\n",
       "      <td>32.000000</td>\n",
       "      <td>0</td>\n",
       "    </tr>\n",
       "  </tbody>\n",
       "</table>\n",
       "<p>891 rows × 4 columns</p>\n",
       "</div>"
      ],
      "text/plain": [
       "     survived  pclass        age  parch\n",
       "0           0       3  22.000000      0\n",
       "1           1       1  38.000000      0\n",
       "2           1       3  26.000000      0\n",
       "3           1       1  35.000000      0\n",
       "4           0       3  35.000000      0\n",
       "..        ...     ...        ...    ...\n",
       "886         0       2  27.000000      0\n",
       "887         1       1  19.000000      0\n",
       "888         0       3  29.699118      2\n",
       "889         1       1  26.000000      0\n",
       "890         0       3  32.000000      0\n",
       "\n",
       "[891 rows x 4 columns]"
      ]
     },
     "execution_count": 8,
     "metadata": {},
     "output_type": "execute_result"
    }
   ],
   "source": [
    "df2"
   ]
  },
  {
   "cell_type": "code",
   "execution_count": 9,
   "metadata": {},
   "outputs": [],
   "source": [
    "x=df2.drop(['survived'],axis=1)"
   ]
  },
  {
   "cell_type": "code",
   "execution_count": 10,
   "metadata": {},
   "outputs": [
    {
     "data": {
      "text/html": [
       "<div>\n",
       "<style scoped>\n",
       "    .dataframe tbody tr th:only-of-type {\n",
       "        vertical-align: middle;\n",
       "    }\n",
       "\n",
       "    .dataframe tbody tr th {\n",
       "        vertical-align: top;\n",
       "    }\n",
       "\n",
       "    .dataframe thead th {\n",
       "        text-align: right;\n",
       "    }\n",
       "</style>\n",
       "<table border=\"1\" class=\"dataframe\">\n",
       "  <thead>\n",
       "    <tr style=\"text-align: right;\">\n",
       "      <th></th>\n",
       "      <th>pclass</th>\n",
       "      <th>age</th>\n",
       "      <th>parch</th>\n",
       "    </tr>\n",
       "  </thead>\n",
       "  <tbody>\n",
       "    <tr>\n",
       "      <th>0</th>\n",
       "      <td>3</td>\n",
       "      <td>22.000000</td>\n",
       "      <td>0</td>\n",
       "    </tr>\n",
       "    <tr>\n",
       "      <th>1</th>\n",
       "      <td>1</td>\n",
       "      <td>38.000000</td>\n",
       "      <td>0</td>\n",
       "    </tr>\n",
       "    <tr>\n",
       "      <th>2</th>\n",
       "      <td>3</td>\n",
       "      <td>26.000000</td>\n",
       "      <td>0</td>\n",
       "    </tr>\n",
       "    <tr>\n",
       "      <th>3</th>\n",
       "      <td>1</td>\n",
       "      <td>35.000000</td>\n",
       "      <td>0</td>\n",
       "    </tr>\n",
       "    <tr>\n",
       "      <th>4</th>\n",
       "      <td>3</td>\n",
       "      <td>35.000000</td>\n",
       "      <td>0</td>\n",
       "    </tr>\n",
       "    <tr>\n",
       "      <th>...</th>\n",
       "      <td>...</td>\n",
       "      <td>...</td>\n",
       "      <td>...</td>\n",
       "    </tr>\n",
       "    <tr>\n",
       "      <th>886</th>\n",
       "      <td>2</td>\n",
       "      <td>27.000000</td>\n",
       "      <td>0</td>\n",
       "    </tr>\n",
       "    <tr>\n",
       "      <th>887</th>\n",
       "      <td>1</td>\n",
       "      <td>19.000000</td>\n",
       "      <td>0</td>\n",
       "    </tr>\n",
       "    <tr>\n",
       "      <th>888</th>\n",
       "      <td>3</td>\n",
       "      <td>29.699118</td>\n",
       "      <td>2</td>\n",
       "    </tr>\n",
       "    <tr>\n",
       "      <th>889</th>\n",
       "      <td>1</td>\n",
       "      <td>26.000000</td>\n",
       "      <td>0</td>\n",
       "    </tr>\n",
       "    <tr>\n",
       "      <th>890</th>\n",
       "      <td>3</td>\n",
       "      <td>32.000000</td>\n",
       "      <td>0</td>\n",
       "    </tr>\n",
       "  </tbody>\n",
       "</table>\n",
       "<p>891 rows × 3 columns</p>\n",
       "</div>"
      ],
      "text/plain": [
       "     pclass        age  parch\n",
       "0         3  22.000000      0\n",
       "1         1  38.000000      0\n",
       "2         3  26.000000      0\n",
       "3         1  35.000000      0\n",
       "4         3  35.000000      0\n",
       "..      ...        ...    ...\n",
       "886       2  27.000000      0\n",
       "887       1  19.000000      0\n",
       "888       3  29.699118      2\n",
       "889       1  26.000000      0\n",
       "890       3  32.000000      0\n",
       "\n",
       "[891 rows x 3 columns]"
      ]
     },
     "execution_count": 10,
     "metadata": {},
     "output_type": "execute_result"
    }
   ],
   "source": [
    "x"
   ]
  },
  {
   "cell_type": "code",
   "execution_count": 11,
   "metadata": {},
   "outputs": [],
   "source": [
    "y=df2.survived"
   ]
  },
  {
   "cell_type": "code",
   "execution_count": 12,
   "metadata": {},
   "outputs": [
    {
     "data": {
      "text/plain": [
       "0      0\n",
       "1      1\n",
       "2      1\n",
       "3      1\n",
       "4      0\n",
       "      ..\n",
       "886    0\n",
       "887    1\n",
       "888    0\n",
       "889    1\n",
       "890    0\n",
       "Name: survived, Length: 891, dtype: int64"
      ]
     },
     "execution_count": 12,
     "metadata": {},
     "output_type": "execute_result"
    }
   ],
   "source": [
    "y"
   ]
  },
  {
   "cell_type": "markdown",
   "metadata": {},
   "source": [
    "# Data Splitting"
   ]
  },
  {
   "cell_type": "code",
   "execution_count": 13,
   "metadata": {},
   "outputs": [],
   "source": [
    "from sklearn.model_selection import train_test_split"
   ]
  },
  {
   "cell_type": "code",
   "execution_count": 14,
   "metadata": {},
   "outputs": [],
   "source": [
    "xtrain,xtest,ytrain,ytest=train_test_split(x,y,test_size=.2 ,random_state=1)"
   ]
  },
  {
   "cell_type": "code",
   "execution_count": 15,
   "metadata": {},
   "outputs": [
    {
     "data": {
      "text/plain": [
       "<seaborn.axisgrid.PairGrid at 0x239749f0130>"
      ]
     },
     "execution_count": 15,
     "metadata": {},
     "output_type": "execute_result"
    },
    {
     "data": {
      "image/png": "[encoded data removed]",
      "text/plain": [
       "<Figure size 540x540 with 12 Axes>"
      ]
     },
     "metadata": {
      "needs_background": "light"
     },
     "output_type": "display_data"
    }
   ],
   "source": [
    "sns.pairplot(xtrain)"
   ]
  },
  {
   "cell_type": "markdown",
   "metadata": {},
   "source": [
    "# Difference between "
   ]
  },
  {
   "cell_type": "markdown",
   "metadata": {},
   "source": [
    "![title](image/Standardization_vs_Normalization.png)"
   ]
  },
  {
   "cell_type": "markdown",
   "metadata": {},
   "source": [
    "# Standardization"
   ]
  },
  {
   "cell_type": "markdown",
   "metadata": {},
   "source": [
    "![title](image/StandardizationBasic1.png)"
   ]
  },
  {
   "cell_type": "markdown",
   "metadata": {},
   "source": [
    "![title](image/StandardizationBasic2.png)"
   ]
  },
  {
   "cell_type": "markdown",
   "metadata": {},
   "source": [
    "# StandardScaler()\n",
    "StandardScaler(*, copy=True, with_mean=True, with_std=True)"
   ]
  },
  {
   "cell_type": "code",
   "execution_count": 16,
   "metadata": {},
   "outputs": [],
   "source": [
    "from sklearn.preprocessing import StandardScaler"
   ]
  },
  {
   "cell_type": "code",
   "execution_count": 17,
   "metadata": {},
   "outputs": [
    {
     "data": {
      "text/plain": [
       "StandardScaler()"
      ]
     },
     "execution_count": 17,
     "metadata": {},
     "output_type": "execute_result"
    }
   ],
   "source": [
    "sc=StandardScaler()\n",
    "sc.fit(xtrain)"
   ]
  },
  {
   "cell_type": "code",
   "execution_count": 18,
   "metadata": {},
   "outputs": [
    {
     "data": {
      "text/plain": [
       "array([ 2.3005618 , 30.07175975,  0.37078652])"
      ]
     },
     "execution_count": 18,
     "metadata": {},
     "output_type": "execute_result"
    }
   ],
   "source": [
    "sc.mean_  # mean of xtrain"
   ]
  },
  {
   "cell_type": "code",
   "execution_count": 19,
   "metadata": {},
   "outputs": [
    {
     "data": {
      "text/plain": [
       "array([ 0.83605529, 13.2589318 ,  0.77542337])"
      ]
     },
     "execution_count": 19,
     "metadata": {},
     "output_type": "execute_result"
    }
   ],
   "source": [
    "sc.scale_  # standard deviation of xtrain"
   ]
  },
  {
   "cell_type": "code",
   "execution_count": 20,
   "metadata": {},
   "outputs": [
    {
     "data": {
      "text/html": [
       "<div>\n",
       "<style scoped>\n",
       "    .dataframe tbody tr th:only-of-type {\n",
       "        vertical-align: middle;\n",
       "    }\n",
       "\n",
       "    .dataframe tbody tr th {\n",
       "        vertical-align: top;\n",
       "    }\n",
       "\n",
       "    .dataframe thead th {\n",
       "        text-align: right;\n",
       "    }\n",
       "</style>\n",
       "<table border=\"1\" class=\"dataframe\">\n",
       "  <thead>\n",
       "    <tr style=\"text-align: right;\">\n",
       "      <th></th>\n",
       "      <th>pclass</th>\n",
       "      <th>age</th>\n",
       "      <th>parch</th>\n",
       "    </tr>\n",
       "  </thead>\n",
       "  <tbody>\n",
       "    <tr>\n",
       "      <th>count</th>\n",
       "      <td>712.000000</td>\n",
       "      <td>712.000000</td>\n",
       "      <td>712.000000</td>\n",
       "    </tr>\n",
       "    <tr>\n",
       "      <th>mean</th>\n",
       "      <td>2.300562</td>\n",
       "      <td>30.071760</td>\n",
       "      <td>0.370787</td>\n",
       "    </tr>\n",
       "    <tr>\n",
       "      <th>std</th>\n",
       "      <td>0.836643</td>\n",
       "      <td>13.268253</td>\n",
       "      <td>0.775968</td>\n",
       "    </tr>\n",
       "    <tr>\n",
       "      <th>min</th>\n",
       "      <td>1.000000</td>\n",
       "      <td>0.420000</td>\n",
       "      <td>0.000000</td>\n",
       "    </tr>\n",
       "    <tr>\n",
       "      <th>25%</th>\n",
       "      <td>2.000000</td>\n",
       "      <td>22.000000</td>\n",
       "      <td>0.000000</td>\n",
       "    </tr>\n",
       "    <tr>\n",
       "      <th>50%</th>\n",
       "      <td>3.000000</td>\n",
       "      <td>29.699118</td>\n",
       "      <td>0.000000</td>\n",
       "    </tr>\n",
       "    <tr>\n",
       "      <th>75%</th>\n",
       "      <td>3.000000</td>\n",
       "      <td>36.000000</td>\n",
       "      <td>0.000000</td>\n",
       "    </tr>\n",
       "    <tr>\n",
       "      <th>max</th>\n",
       "      <td>3.000000</td>\n",
       "      <td>80.000000</td>\n",
       "      <td>6.000000</td>\n",
       "    </tr>\n",
       "  </tbody>\n",
       "</table>\n",
       "</div>"
      ],
      "text/plain": [
       "           pclass         age       parch\n",
       "count  712.000000  712.000000  712.000000\n",
       "mean     2.300562   30.071760    0.370787\n",
       "std      0.836643   13.268253    0.775968\n",
       "min      1.000000    0.420000    0.000000\n",
       "25%      2.000000   22.000000    0.000000\n",
       "50%      3.000000   29.699118    0.000000\n",
       "75%      3.000000   36.000000    0.000000\n",
       "max      3.000000   80.000000    6.000000"
      ]
     },
     "execution_count": 20,
     "metadata": {},
     "output_type": "execute_result"
    }
   ],
   "source": [
    "xtrain.describe()"
   ]
  },
  {
   "cell_type": "code",
   "execution_count": 21,
   "metadata": {},
   "outputs": [],
   "source": [
    "xtrain_sc=sc.transform(xtrain)\n",
    "xtest_sc=sc.transform(xtest)\n",
    "#xtrain_sc=sc.transform(xtrain).round(2)\n",
    "#xtest_sc=sc.transform(xtest).round(2)"
   ]
  },
  {
   "cell_type": "code",
   "execution_count": 22,
   "metadata": {},
   "outputs": [
    {
     "data": {
      "text/plain": [
       "array([[ 0.83659324, -0.02810499, -0.478173  ],\n",
       "       [-1.55559305, -0.00541218, -0.478173  ],\n",
       "       [-0.35949991,  0.29627125, -0.478173  ],\n",
       "       ...,\n",
       "       [-0.35949991, -0.6841999 , -0.478173  ],\n",
       "       [ 0.83659324, -0.02810499, -0.478173  ],\n",
       "       [ 0.83659324, -0.6841999 , -0.478173  ]])"
      ]
     },
     "execution_count": 22,
     "metadata": {},
     "output_type": "execute_result"
    }
   ],
   "source": [
    "xtrain_sc"
   ]
  },
  {
   "cell_type": "code",
   "execution_count": 23,
   "metadata": {},
   "outputs": [
    {
     "data": {
      "text/plain": [
       "array([[-1.55559305e+00,  1.35216325e+00, -4.78172997e-01],\n",
       "       [ 8.36593238e-01, -2.81049867e-02, -4.78172997e-01],\n",
       "       [-3.59499905e-01, -9.85883324e-01, -4.78172997e-01],\n",
       "       [ 8.36593238e-01, -2.81049867e-02, -4.78172997e-01],\n",
       "       [-3.59499905e-01, -1.74009189e+00,  2.10106317e+00],\n",
       "       [ 8.36593238e-01, -6.84199895e-01, -4.78172997e-01],\n",
       "       [-3.59499905e-01,  4.84823389e-01,  2.10106317e+00],\n",
       "       [-1.55559305e+00,  3.71692104e-01, -4.78172997e-01],\n",
       "       [-1.55559305e+00, -1.56253896e-01, -4.78172997e-01],\n",
       "       [ 8.36593238e-01, -2.81049867e-02, -4.78172997e-01],\n",
       "       [ 8.36593238e-01, -3.82516467e-01, -4.78172997e-01],\n",
       "       [ 8.36593238e-01, -3.07095610e-01, -4.78172997e-01],\n",
       "       [-1.55559305e+00,  1.80468839e+00, -4.78172997e-01],\n",
       "       [-3.59499905e-01, -2.81049867e-02, -4.78172997e-01],\n",
       "       [ 8.36593238e-01, -2.81049867e-02, -4.78172997e-01],\n",
       "       [-1.55559305e+00, -1.56253896e-01, -4.78172997e-01],\n",
       "       [ 8.36593238e-01, -1.51382932e+00,  2.10106317e+00],\n",
       "       [ 8.36593238e-01, -4.57937324e-01, -4.78172997e-01],\n",
       "       [ 8.36593238e-01,  4.47112961e-01, -4.78172997e-01],\n",
       "       [-3.59499905e-01, -4.57937324e-01,  3.39068125e+00],\n",
       "       [ 8.36593238e-01,  1.45429532e-01, -4.78172997e-01],\n",
       "       [ 8.36593238e-01, -3.07095610e-01, -4.78172997e-01],\n",
       "       [-1.55559305e+00, -4.57937324e-01, -4.78172997e-01],\n",
       "       [-3.59499905e-01, -9.10462467e-01, -4.78172997e-01],\n",
       "       [ 8.36593238e-01, -1.17443547e+00, -4.78172997e-01],\n",
       "       [ 8.36593238e-01, -2.31674753e-01, -4.78172997e-01],\n",
       "       [-1.55559305e+00, -6.84199895e-01,  2.10106317e+00],\n",
       "       [-3.59499905e-01,  8.99638103e-01, -4.78172997e-01],\n",
       "       [-3.59499905e-01, -3.07095610e-01, -4.78172997e-01],\n",
       "       [-1.55559305e+00, -6.08779038e-01, -4.78172997e-01],\n",
       "       [ 8.36593238e-01, -6.08779038e-01, -4.78172997e-01],\n",
       "       [-1.55559305e+00, -2.81049867e-02, -4.78172997e-01],\n",
       "       [ 8.36593238e-01,  6.73375532e-01,  5.96991741e+00],\n",
       "       [ 8.36593238e-01, -3.82516467e-01, -4.78172997e-01],\n",
       "       [ 8.36593238e-01,  7.86506818e-01, -4.78172997e-01],\n",
       "       [ 8.36593238e-01, -1.89093361e+00,  2.10106317e+00],\n",
       "       [-1.55559305e+00,  4.47112961e-01, -4.78172997e-01],\n",
       "       [ 8.36593238e-01, -2.81049867e-02, -4.78172997e-01],\n",
       "       [-1.55559305e+00, -3.82516467e-01, -4.78172997e-01],\n",
       "       [ 8.36593238e-01, -7.59620753e-01, -4.78172997e-01],\n",
       "       [ 8.36593238e-01, -2.31674753e-01, -4.78172997e-01],\n",
       "       [ 8.36593238e-01, -2.31674753e-01,  2.10106317e+00],\n",
       "       [-1.55559305e+00,  1.27674239e+00,  8.11445085e-01],\n",
       "       [-1.55559305e+00,  1.16361110e+00, -4.78172997e-01],\n",
       "       [-3.59499905e-01, -2.19261704e+00,  2.10106317e+00],\n",
       "       [ 8.36593238e-01,  3.71692104e-01, -4.78172997e-01],\n",
       "       [ 8.36593238e-01, -1.43840847e+00,  2.10106317e+00],\n",
       "       [-3.59499905e-01,  6.73375532e-01, -4.78172997e-01],\n",
       "       [-1.55559305e+00,  3.71692104e-01, -4.78172997e-01],\n",
       "       [-3.59499905e-01, -1.06130418e+00, -4.78172997e-01],\n",
       "       [-3.59499905e-01, -2.81049867e-02, -4.78172997e-01],\n",
       "       [-3.59499905e-01, -6.84199895e-01, -4.78172997e-01],\n",
       "       [-3.59499905e-01, -8.35041610e-01, -4.78172997e-01],\n",
       "       [-3.59499905e-01,  4.47112961e-01, -4.78172997e-01],\n",
       "       [ 8.36593238e-01, -8.08330388e-02, -4.78172997e-01],\n",
       "       [ 8.36593238e-01, -4.57937324e-01, -4.78172997e-01],\n",
       "       [-3.59499905e-01, -8.08330388e-02, -4.78172997e-01],\n",
       "       [-1.55559305e+00,  2.33263439e+00, -4.78172997e-01],\n",
       "       [ 8.36593238e-01,  6.73375532e-01,  5.96991741e+00],\n",
       "       [ 8.36593238e-01, -7.59620753e-01, -4.78172997e-01],\n",
       "       [ 8.36593238e-01, -2.81049867e-02,  2.10106317e+00],\n",
       "       [ 8.36593238e-01, -2.81049867e-02, -4.78172997e-01],\n",
       "       [-3.59499905e-01, -1.56253896e-01,  8.11445085e-01],\n",
       "       [-1.55559305e+00,  1.12590067e+00, -4.78172997e-01],\n",
       "       [-1.55559305e+00, -2.31674753e-01, -4.78172997e-01],\n",
       "       [ 8.36593238e-01, -8.08330388e-02,  2.10106317e+00],\n",
       "       [ 8.36593238e-01, -7.59620753e-01,  8.11445085e-01],\n",
       "       [ 8.36593238e-01, -3.07095610e-01, -4.78172997e-01],\n",
       "       [ 8.36593238e-01, -2.11719618e+00,  8.11445085e-01],\n",
       "       [-3.59499905e-01,  9.75058960e-01,  8.11445085e-01],\n",
       "       [ 8.36593238e-01, -4.57937324e-01, -4.78172997e-01],\n",
       "       [ 8.36593238e-01, -1.21214590e+00,  8.11445085e-01],\n",
       "       [-1.55559305e+00,  1.20132153e+00, -4.78172997e-01],\n",
       "       [ 8.36593238e-01, -2.81049867e-02, -4.78172997e-01],\n",
       "       [-3.59499905e-01,  2.03095096e+00, -4.78172997e-01],\n",
       "       [-3.59499905e-01,  7.00086753e-02,  8.11445085e-01],\n",
       "       [-1.55559305e+00,  3.71692104e-01, -4.78172997e-01],\n",
       "       [ 8.36593238e-01, -2.81049867e-02, -4.78172997e-01],\n",
       "       [-1.55559305e+00,  2.10637182e+00, -4.78172997e-01],\n",
       "       [-1.55559305e+00, -1.06130418e+00, -4.78172997e-01],\n",
       "       [ 8.36593238e-01, -3.07095610e-01, -4.78172997e-01],\n",
       "       [ 8.36593238e-01, -2.81049867e-02,  2.10106317e+00],\n",
       "       [ 8.36593238e-01, -2.81049867e-02, -4.78172997e-01],\n",
       "       [ 8.36593238e-01,  2.96271247e-01, -4.78172997e-01],\n",
       "       [-3.59499905e-01, -5.33358181e-01, -4.78172997e-01],\n",
       "       [ 8.36593238e-01, -8.08330388e-02, -4.78172997e-01],\n",
       "       [ 8.36593238e-01, -2.81049867e-02, -4.78172997e-01],\n",
       "       [ 8.36593238e-01, -2.81049867e-02, -4.78172997e-01],\n",
       "       [ 8.36593238e-01, -1.81551275e+00,  2.10106317e+00],\n",
       "       [-3.59499905e-01, -5.41218176e-03, -4.78172997e-01],\n",
       "       [-1.55559305e+00,  1.27674239e+00, -4.78172997e-01],\n",
       "       [ 8.36593238e-01, -2.81049867e-02, -4.78172997e-01],\n",
       "       [ 8.36593238e-01, -3.82516467e-01, -4.78172997e-01],\n",
       "       [ 8.36593238e-01, -2.81049867e-02, -4.78172997e-01],\n",
       "       [ 8.36593238e-01, -2.81049867e-02, -4.78172997e-01],\n",
       "       [-1.55559305e+00, -5.41218176e-03, -4.78172997e-01],\n",
       "       [ 8.36593238e-01,  2.18179267e+00, -4.78172997e-01],\n",
       "       [ 8.36593238e-01, -2.81049867e-02, -4.78172997e-01],\n",
       "       [ 8.36593238e-01, -8.35041610e-01, -4.78172997e-01],\n",
       "       [ 8.36593238e-01, -2.81049867e-02, -4.78172997e-01],\n",
       "       [-1.55559305e+00, -2.81049867e-02, -4.78172997e-01],\n",
       "       [-1.55559305e+00,  5.97954675e-01, -4.78172997e-01],\n",
       "       [ 8.36593238e-01, -2.81049867e-02,  8.11445085e-01],\n",
       "       [ 8.36593238e-01, -9.10462467e-01,  8.11445085e-01],\n",
       "       [-1.55559305e+00, -1.06130418e+00,  8.11445085e-01],\n",
       "       [ 8.36593238e-01, -5.33358181e-01, -4.78172997e-01],\n",
       "       [ 8.36593238e-01, -8.08330388e-02, -4.78172997e-01],\n",
       "       [ 8.36593238e-01, -8.08330388e-02, -4.78172997e-01],\n",
       "       [ 8.36593238e-01, -1.74009189e+00,  8.11445085e-01],\n",
       "       [ 8.36593238e-01,  8.99638103e-01, -4.78172997e-01],\n",
       "       [-1.55559305e+00,  1.42758410e+00, -4.78172997e-01],\n",
       "       [ 8.36593238e-01, -6.08779038e-01, -4.78172997e-01],\n",
       "       [-3.59499905e-01,  1.35216325e+00, -4.78172997e-01],\n",
       "       [ 8.36593238e-01, -3.82516467e-01, -4.78172997e-01],\n",
       "       [-3.59499905e-01, -5.33358181e-01, -4.78172997e-01],\n",
       "       [ 8.36593238e-01,  2.20850389e-01, -4.78172997e-01],\n",
       "       [-3.59499905e-01, -8.08330388e-02, -4.78172997e-01],\n",
       "       [-1.55559305e+00,  7.00086753e-02, -4.78172997e-01],\n",
       "       [-3.59499905e-01,  4.47112961e-01, -4.78172997e-01],\n",
       "       [ 8.36593238e-01,  7.00086753e-02, -4.78172997e-01],\n",
       "       [-3.59499905e-01, -1.56253896e-01, -4.78172997e-01],\n",
       "       [-1.55559305e+00,  1.65384667e+00,  8.11445085e-01],\n",
       "       [ 8.36593238e-01, -2.81049867e-02, -4.78172997e-01],\n",
       "       [-3.59499905e-01, -9.10462467e-01, -4.78172997e-01],\n",
       "       [-1.55559305e+00,  7.00086753e-02,  2.10106317e+00],\n",
       "       [-1.55559305e+00, -8.35041610e-01, -4.78172997e-01],\n",
       "       [-3.59499905e-01, -1.56253896e-01, -4.78172997e-01],\n",
       "       [ 8.36593238e-01, -6.08779038e-01, -4.78172997e-01],\n",
       "       [ 8.36593238e-01, -2.81049867e-02,  2.10106317e+00],\n",
       "       [ 8.36593238e-01, -2.81049867e-02, -4.78172997e-01],\n",
       "       [ 8.36593238e-01, -4.57937324e-01, -4.78172997e-01],\n",
       "       [ 8.36593238e-01,  1.05047982e+00, -4.78172997e-01],\n",
       "       [ 8.36593238e-01, -2.21147225e+00,  8.11445085e-01],\n",
       "       [-1.55559305e+00, -2.31674753e-01, -4.78172997e-01],\n",
       "       [ 8.36593238e-01,  2.20850389e-01, -4.78172997e-01],\n",
       "       [-1.55559305e+00,  2.10637182e+00, -4.78172997e-01],\n",
       "       [-1.55559305e+00, -9.10462467e-01,  2.10106317e+00],\n",
       "       [ 8.36593238e-01, -2.19261704e+00,  2.10106317e+00],\n",
       "       [ 8.36593238e-01, -9.10462467e-01, -4.78172997e-01],\n",
       "       [ 8.36593238e-01, -5.33358181e-01, -4.78172997e-01],\n",
       "       [-1.55559305e+00, -3.82516467e-01,  2.10106317e+00],\n",
       "       [ 8.36593238e-01,  6.73375532e-01, -4.78172997e-01],\n",
       "       [-1.55559305e+00, -1.21214590e+00,  2.10106317e+00],\n",
       "       [ 8.36593238e-01, -2.81049867e-02, -4.78172997e-01],\n",
       "       [ 8.36593238e-01, -2.81049867e-02, -4.78172997e-01],\n",
       "       [ 8.36593238e-01, -9.10462467e-01, -4.78172997e-01],\n",
       "       [-3.59499905e-01,  7.00086753e-02, -4.78172997e-01],\n",
       "       [ 8.36593238e-01, -2.81049867e-02, -4.78172997e-01],\n",
       "       [ 8.36593238e-01,  6.73375532e-01,  5.96991741e+00],\n",
       "       [ 8.36593238e-01, -6.08779038e-01, -4.78172997e-01],\n",
       "       [ 8.36593238e-01, -2.11719618e+00,  8.11445085e-01],\n",
       "       [ 8.36593238e-01,  1.42758410e+00, -4.78172997e-01],\n",
       "       [ 8.36593238e-01, -2.11719618e+00,  8.11445085e-01],\n",
       "       [ 8.36593238e-01, -6.08779038e-01, -4.78172997e-01],\n",
       "       [ 8.36593238e-01, -2.81049867e-02, -4.78172997e-01],\n",
       "       [ 8.36593238e-01,  1.45429532e-01, -4.78172997e-01],\n",
       "       [ 8.36593238e-01, -6.08779038e-01, -4.78172997e-01],\n",
       "       [ 8.36593238e-01,  8.99638103e-01, -4.78172997e-01],\n",
       "       [-3.59499905e-01, -2.31674753e-01, -4.78172997e-01],\n",
       "       [-3.59499905e-01, -5.33358181e-01, -4.78172997e-01],\n",
       "       [-3.59499905e-01,  5.22533818e-01, -4.78172997e-01],\n",
       "       [ 8.36593238e-01, -1.56253896e-01, -4.78172997e-01],\n",
       "       [ 8.36593238e-01, -6.84199895e-01, -4.78172997e-01],\n",
       "       [-1.55559305e+00, -1.56253896e-01, -4.78172997e-01],\n",
       "       [ 8.36593238e-01, -3.07095610e-01, -4.78172997e-01],\n",
       "       [ 8.36593238e-01, -1.13672504e+00, -4.78172997e-01],\n",
       "       [-3.59499905e-01, -4.57937324e-01,  8.11445085e-01],\n",
       "       [ 8.36593238e-01, -2.81049867e-02, -4.78172997e-01],\n",
       "       [ 8.36593238e-01, -1.06130418e+00, -4.78172997e-01],\n",
       "       [-1.55559305e+00,  2.10637182e+00,  2.10106317e+00],\n",
       "       [-1.55559305e+00,  3.71692104e-01, -4.78172997e-01],\n",
       "       [ 8.36593238e-01, -2.11719618e+00,  2.10106317e+00],\n",
       "       [-1.55559305e+00, -5.41218176e-03, -4.78172997e-01],\n",
       "       [ 8.36593238e-01, -9.10462467e-01,  8.11445085e-01],\n",
       "       [-1.55559305e+00,  1.42758410e+00, -4.78172997e-01],\n",
       "       [-1.55559305e+00, -2.81049867e-02, -4.78172997e-01],\n",
       "       [ 8.36593238e-01, -2.81049867e-02, -4.78172997e-01],\n",
       "       [ 8.36593238e-01, -6.84199895e-01, -4.78172997e-01],\n",
       "       [ 8.36593238e-01, -1.89093361e+00,  8.11445085e-01]])"
      ]
     },
     "execution_count": 23,
     "metadata": {},
     "output_type": "execute_result"
    }
   ],
   "source": [
    "xtest_sc"
   ]
  },
  {
   "cell_type": "code",
   "execution_count": 24,
   "metadata": {},
   "outputs": [],
   "source": [
    "xtrain_sc_df=pd.DataFrame(xtrain_sc,columns=['pclass','age','parch'])"
   ]
  },
  {
   "cell_type": "code",
   "execution_count": 25,
   "metadata": {},
   "outputs": [],
   "source": [
    "xtest_sc_df=pd.DataFrame(xtest_sc,columns=['pclass','age','parch'])"
   ]
  },
  {
   "cell_type": "code",
   "execution_count": 26,
   "metadata": {},
   "outputs": [
    {
     "data": {
      "text/html": [
       "<div>\n",
       "<style scoped>\n",
       "    .dataframe tbody tr th:only-of-type {\n",
       "        vertical-align: middle;\n",
       "    }\n",
       "\n",
       "    .dataframe tbody tr th {\n",
       "        vertical-align: top;\n",
       "    }\n",
       "\n",
       "    .dataframe thead th {\n",
       "        text-align: right;\n",
       "    }\n",
       "</style>\n",
       "<table border=\"1\" class=\"dataframe\">\n",
       "  <thead>\n",
       "    <tr style=\"text-align: right;\">\n",
       "      <th></th>\n",
       "      <th>pclass</th>\n",
       "      <th>age</th>\n",
       "      <th>parch</th>\n",
       "    </tr>\n",
       "  </thead>\n",
       "  <tbody>\n",
       "    <tr>\n",
       "      <th>count</th>\n",
       "      <td>712.00</td>\n",
       "      <td>712.00</td>\n",
       "      <td>712.00</td>\n",
       "    </tr>\n",
       "    <tr>\n",
       "      <th>mean</th>\n",
       "      <td>0.00</td>\n",
       "      <td>0.00</td>\n",
       "      <td>0.00</td>\n",
       "    </tr>\n",
       "    <tr>\n",
       "      <th>std</th>\n",
       "      <td>1.00</td>\n",
       "      <td>1.00</td>\n",
       "      <td>1.00</td>\n",
       "    </tr>\n",
       "    <tr>\n",
       "      <th>min</th>\n",
       "      <td>-1.56</td>\n",
       "      <td>-2.24</td>\n",
       "      <td>-0.48</td>\n",
       "    </tr>\n",
       "    <tr>\n",
       "      <th>25%</th>\n",
       "      <td>-0.36</td>\n",
       "      <td>-0.61</td>\n",
       "      <td>-0.48</td>\n",
       "    </tr>\n",
       "    <tr>\n",
       "      <th>50%</th>\n",
       "      <td>0.84</td>\n",
       "      <td>-0.03</td>\n",
       "      <td>-0.48</td>\n",
       "    </tr>\n",
       "    <tr>\n",
       "      <th>75%</th>\n",
       "      <td>0.84</td>\n",
       "      <td>0.45</td>\n",
       "      <td>-0.48</td>\n",
       "    </tr>\n",
       "    <tr>\n",
       "      <th>max</th>\n",
       "      <td>0.84</td>\n",
       "      <td>3.77</td>\n",
       "      <td>7.26</td>\n",
       "    </tr>\n",
       "  </tbody>\n",
       "</table>\n",
       "</div>"
      ],
      "text/plain": [
       "       pclass     age   parch\n",
       "count  712.00  712.00  712.00\n",
       "mean     0.00    0.00    0.00\n",
       "std      1.00    1.00    1.00\n",
       "min     -1.56   -2.24   -0.48\n",
       "25%     -0.36   -0.61   -0.48\n",
       "50%      0.84   -0.03   -0.48\n",
       "75%      0.84    0.45   -0.48\n",
       "max      0.84    3.77    7.26"
      ]
     },
     "execution_count": 26,
     "metadata": {},
     "output_type": "execute_result"
    }
   ],
   "source": [
    "xtrain_sc_df.describe().round(2)"
   ]
  },
  {
   "cell_type": "code",
   "execution_count": 27,
   "metadata": {},
   "outputs": [
    {
     "data": {
      "text/html": [
       "<div>\n",
       "<style scoped>\n",
       "    .dataframe tbody tr th:only-of-type {\n",
       "        vertical-align: middle;\n",
       "    }\n",
       "\n",
       "    .dataframe tbody tr th {\n",
       "        vertical-align: top;\n",
       "    }\n",
       "\n",
       "    .dataframe thead th {\n",
       "        text-align: right;\n",
       "    }\n",
       "</style>\n",
       "<table border=\"1\" class=\"dataframe\">\n",
       "  <thead>\n",
       "    <tr style=\"text-align: right;\">\n",
       "      <th></th>\n",
       "      <th>pclass</th>\n",
       "      <th>age</th>\n",
       "      <th>parch</th>\n",
       "    </tr>\n",
       "  </thead>\n",
       "  <tbody>\n",
       "    <tr>\n",
       "      <th>count</th>\n",
       "      <td>179.00</td>\n",
       "      <td>179.00</td>\n",
       "      <td>179.00</td>\n",
       "    </tr>\n",
       "    <tr>\n",
       "      <th>mean</th>\n",
       "      <td>0.05</td>\n",
       "      <td>-0.14</td>\n",
       "      <td>0.07</td>\n",
       "    </tr>\n",
       "    <tr>\n",
       "      <th>std</th>\n",
       "      <td>1.00</td>\n",
       "      <td>0.89</td>\n",
       "      <td>1.18</td>\n",
       "    </tr>\n",
       "    <tr>\n",
       "      <th>min</th>\n",
       "      <td>-1.56</td>\n",
       "      <td>-2.21</td>\n",
       "      <td>-0.48</td>\n",
       "    </tr>\n",
       "    <tr>\n",
       "      <th>25%</th>\n",
       "      <td>-0.36</td>\n",
       "      <td>-0.61</td>\n",
       "      <td>-0.48</td>\n",
       "    </tr>\n",
       "    <tr>\n",
       "      <th>50%</th>\n",
       "      <td>0.84</td>\n",
       "      <td>-0.08</td>\n",
       "      <td>-0.48</td>\n",
       "    </tr>\n",
       "    <tr>\n",
       "      <th>75%</th>\n",
       "      <td>0.84</td>\n",
       "      <td>0.15</td>\n",
       "      <td>-0.48</td>\n",
       "    </tr>\n",
       "    <tr>\n",
       "      <th>max</th>\n",
       "      <td>0.84</td>\n",
       "      <td>2.33</td>\n",
       "      <td>5.97</td>\n",
       "    </tr>\n",
       "  </tbody>\n",
       "</table>\n",
       "</div>"
      ],
      "text/plain": [
       "       pclass     age   parch\n",
       "count  179.00  179.00  179.00\n",
       "mean     0.05   -0.14    0.07\n",
       "std      1.00    0.89    1.18\n",
       "min     -1.56   -2.21   -0.48\n",
       "25%     -0.36   -0.61   -0.48\n",
       "50%      0.84   -0.08   -0.48\n",
       "75%      0.84    0.15   -0.48\n",
       "max      0.84    2.33    5.97"
      ]
     },
     "execution_count": 27,
     "metadata": {},
     "output_type": "execute_result"
    }
   ],
   "source": [
    "xtest_sc_df.describe().round(2)"
   ]
  },
  {
   "cell_type": "code",
   "execution_count": 28,
   "metadata": {},
   "outputs": [
    {
     "data": {
      "text/plain": [
       "<seaborn.axisgrid.PairGrid at 0x239748c61f0>"
      ]
     },
     "execution_count": 28,
     "metadata": {},
     "output_type": "execute_result"
    },
    {
     "data": {
      "image/png": "[encoded data removed]",
      "text/plain": [
       "<Figure size 540x540 with 12 Axes>"
      ]
     },
     "metadata": {
      "needs_background": "light"
     },
     "output_type": "display_data"
    }
   ],
   "source": [
    "sns.pairplot(xtrain_sc_df)"
   ]
  },
  {
   "cell_type": "markdown",
   "metadata": {},
   "source": [
    "# Normalization"
   ]
  },
  {
   "cell_type": "markdown",
   "metadata": {},
   "source": [
    "![title](image/NormalizationBasic1.png)"
   ]
  },
  {
   "cell_type": "markdown",
   "metadata": {},
   "source": [
    "# MinMaxScaler()\n",
    "MinMaxScaler(feature_range=(0, 1), *, copy=True, clip=False)"
   ]
  },
  {
   "cell_type": "code",
   "execution_count": 29,
   "metadata": {},
   "outputs": [],
   "source": [
    "from sklearn.preprocessing import MinMaxScaler"
   ]
  },
  {
   "cell_type": "code",
   "execution_count": 30,
   "metadata": {},
   "outputs": [],
   "source": [
    "mms=MinMaxScaler()"
   ]
  },
  {
   "cell_type": "code",
   "execution_count": 31,
   "metadata": {},
   "outputs": [
    {
     "data": {
      "text/plain": [
       "MinMaxScaler()"
      ]
     },
     "execution_count": 31,
     "metadata": {},
     "output_type": "execute_result"
    }
   ],
   "source": [
    "mms.fit(xtrain) #Learned min max o xtrain"
   ]
  },
  {
   "cell_type": "code",
   "execution_count": 32,
   "metadata": {},
   "outputs": [],
   "source": [
    "xtrain_mms=mms.transform(xtrain)\n",
    "xtest_mms=mms.transform(xtest)"
   ]
  },
  {
   "cell_type": "code",
   "execution_count": 33,
   "metadata": {},
   "outputs": [],
   "source": [
    "xtrain_mms_df=pd.DataFrame(xtrain_mms,columns=['pclass','age','parch'])"
   ]
  },
  {
   "cell_type": "code",
   "execution_count": 34,
   "metadata": {},
   "outputs": [],
   "source": [
    "xtest_mms_df=pd.DataFrame(xtest_mms,columns=['pclass','age','parch'])"
   ]
  },
  {
   "cell_type": "code",
   "execution_count": 35,
   "metadata": {},
   "outputs": [
    {
     "data": {
      "text/html": [
       "<div>\n",
       "<style scoped>\n",
       "    .dataframe tbody tr th:only-of-type {\n",
       "        vertical-align: middle;\n",
       "    }\n",
       "\n",
       "    .dataframe tbody tr th {\n",
       "        vertical-align: top;\n",
       "    }\n",
       "\n",
       "    .dataframe thead th {\n",
       "        text-align: right;\n",
       "    }\n",
       "</style>\n",
       "<table border=\"1\" class=\"dataframe\">\n",
       "  <thead>\n",
       "    <tr style=\"text-align: right;\">\n",
       "      <th></th>\n",
       "      <th>pclass</th>\n",
       "      <th>age</th>\n",
       "      <th>parch</th>\n",
       "    </tr>\n",
       "  </thead>\n",
       "  <tbody>\n",
       "    <tr>\n",
       "      <th>count</th>\n",
       "      <td>712.000000</td>\n",
       "      <td>712.000000</td>\n",
       "      <td>712.000000</td>\n",
       "    </tr>\n",
       "    <tr>\n",
       "      <th>mean</th>\n",
       "      <td>0.650281</td>\n",
       "      <td>0.372603</td>\n",
       "      <td>0.061798</td>\n",
       "    </tr>\n",
       "    <tr>\n",
       "      <th>std</th>\n",
       "      <td>0.418322</td>\n",
       "      <td>0.166728</td>\n",
       "      <td>0.129328</td>\n",
       "    </tr>\n",
       "    <tr>\n",
       "      <th>min</th>\n",
       "      <td>0.000000</td>\n",
       "      <td>0.000000</td>\n",
       "      <td>0.000000</td>\n",
       "    </tr>\n",
       "    <tr>\n",
       "      <th>25%</th>\n",
       "      <td>0.500000</td>\n",
       "      <td>0.271174</td>\n",
       "      <td>0.000000</td>\n",
       "    </tr>\n",
       "    <tr>\n",
       "      <th>50%</th>\n",
       "      <td>1.000000</td>\n",
       "      <td>0.367921</td>\n",
       "      <td>0.000000</td>\n",
       "    </tr>\n",
       "    <tr>\n",
       "      <th>75%</th>\n",
       "      <td>1.000000</td>\n",
       "      <td>0.447097</td>\n",
       "      <td>0.000000</td>\n",
       "    </tr>\n",
       "    <tr>\n",
       "      <th>max</th>\n",
       "      <td>1.000000</td>\n",
       "      <td>1.000000</td>\n",
       "      <td>1.000000</td>\n",
       "    </tr>\n",
       "  </tbody>\n",
       "</table>\n",
       "</div>"
      ],
      "text/plain": [
       "           pclass         age       parch\n",
       "count  712.000000  712.000000  712.000000\n",
       "mean     0.650281    0.372603    0.061798\n",
       "std      0.418322    0.166728    0.129328\n",
       "min      0.000000    0.000000    0.000000\n",
       "25%      0.500000    0.271174    0.000000\n",
       "50%      1.000000    0.367921    0.000000\n",
       "75%      1.000000    0.447097    0.000000\n",
       "max      1.000000    1.000000    1.000000"
      ]
     },
     "execution_count": 35,
     "metadata": {},
     "output_type": "execute_result"
    }
   ],
   "source": [
    "xtrain_mms_df.describe()"
   ]
  },
  {
   "cell_type": "code",
   "execution_count": 36,
   "metadata": {},
   "outputs": [
    {
     "data": {
      "text/html": [
       "<div>\n",
       "<style scoped>\n",
       "    .dataframe tbody tr th:only-of-type {\n",
       "        vertical-align: middle;\n",
       "    }\n",
       "\n",
       "    .dataframe tbody tr th {\n",
       "        vertical-align: top;\n",
       "    }\n",
       "\n",
       "    .dataframe thead th {\n",
       "        text-align: right;\n",
       "    }\n",
       "</style>\n",
       "<table border=\"1\" class=\"dataframe\">\n",
       "  <thead>\n",
       "    <tr style=\"text-align: right;\">\n",
       "      <th></th>\n",
       "      <th>pclass</th>\n",
       "      <th>age</th>\n",
       "      <th>parch</th>\n",
       "    </tr>\n",
       "  </thead>\n",
       "  <tbody>\n",
       "    <tr>\n",
       "      <th>count</th>\n",
       "      <td>712.000000</td>\n",
       "      <td>712.000000</td>\n",
       "      <td>712.000000</td>\n",
       "    </tr>\n",
       "    <tr>\n",
       "      <th>mean</th>\n",
       "      <td>2.300562</td>\n",
       "      <td>30.071760</td>\n",
       "      <td>0.370787</td>\n",
       "    </tr>\n",
       "    <tr>\n",
       "      <th>std</th>\n",
       "      <td>0.836643</td>\n",
       "      <td>13.268253</td>\n",
       "      <td>0.775968</td>\n",
       "    </tr>\n",
       "    <tr>\n",
       "      <th>min</th>\n",
       "      <td>1.000000</td>\n",
       "      <td>0.420000</td>\n",
       "      <td>0.000000</td>\n",
       "    </tr>\n",
       "    <tr>\n",
       "      <th>25%</th>\n",
       "      <td>2.000000</td>\n",
       "      <td>22.000000</td>\n",
       "      <td>0.000000</td>\n",
       "    </tr>\n",
       "    <tr>\n",
       "      <th>50%</th>\n",
       "      <td>3.000000</td>\n",
       "      <td>29.699118</td>\n",
       "      <td>0.000000</td>\n",
       "    </tr>\n",
       "    <tr>\n",
       "      <th>75%</th>\n",
       "      <td>3.000000</td>\n",
       "      <td>36.000000</td>\n",
       "      <td>0.000000</td>\n",
       "    </tr>\n",
       "    <tr>\n",
       "      <th>max</th>\n",
       "      <td>3.000000</td>\n",
       "      <td>80.000000</td>\n",
       "      <td>6.000000</td>\n",
       "    </tr>\n",
       "  </tbody>\n",
       "</table>\n",
       "</div>"
      ],
      "text/plain": [
       "           pclass         age       parch\n",
       "count  712.000000  712.000000  712.000000\n",
       "mean     2.300562   30.071760    0.370787\n",
       "std      0.836643   13.268253    0.775968\n",
       "min      1.000000    0.420000    0.000000\n",
       "25%      2.000000   22.000000    0.000000\n",
       "50%      3.000000   29.699118    0.000000\n",
       "75%      3.000000   36.000000    0.000000\n",
       "max      3.000000   80.000000    6.000000"
      ]
     },
     "execution_count": 36,
     "metadata": {},
     "output_type": "execute_result"
    }
   ],
   "source": [
    "xtrain.describe()"
   ]
  },
  {
   "cell_type": "code",
   "execution_count": 37,
   "metadata": {},
   "outputs": [
    {
     "data": {
      "text/html": [
       "<div>\n",
       "<style scoped>\n",
       "    .dataframe tbody tr th:only-of-type {\n",
       "        vertical-align: middle;\n",
       "    }\n",
       "\n",
       "    .dataframe tbody tr th {\n",
       "        vertical-align: top;\n",
       "    }\n",
       "\n",
       "    .dataframe thead th {\n",
       "        text-align: right;\n",
       "    }\n",
       "</style>\n",
       "<table border=\"1\" class=\"dataframe\">\n",
       "  <thead>\n",
       "    <tr style=\"text-align: right;\">\n",
       "      <th></th>\n",
       "      <th>pclass</th>\n",
       "      <th>age</th>\n",
       "      <th>parch</th>\n",
       "    </tr>\n",
       "  </thead>\n",
       "  <tbody>\n",
       "    <tr>\n",
       "      <th>count</th>\n",
       "      <td>179.000000</td>\n",
       "      <td>179.000000</td>\n",
       "      <td>179.000000</td>\n",
       "    </tr>\n",
       "    <tr>\n",
       "      <th>mean</th>\n",
       "      <td>0.670391</td>\n",
       "      <td>0.349295</td>\n",
       "      <td>0.070764</td>\n",
       "    </tr>\n",
       "    <tr>\n",
       "      <th>std</th>\n",
       "      <td>0.417679</td>\n",
       "      <td>0.148310</td>\n",
       "      <td>0.152861</td>\n",
       "    </tr>\n",
       "    <tr>\n",
       "      <th>min</th>\n",
       "      <td>0.000000</td>\n",
       "      <td>0.004147</td>\n",
       "      <td>0.000000</td>\n",
       "    </tr>\n",
       "    <tr>\n",
       "      <th>25%</th>\n",
       "      <td>0.500000</td>\n",
       "      <td>0.271174</td>\n",
       "      <td>0.000000</td>\n",
       "    </tr>\n",
       "    <tr>\n",
       "      <th>50%</th>\n",
       "      <td>1.000000</td>\n",
       "      <td>0.359135</td>\n",
       "      <td>0.000000</td>\n",
       "    </tr>\n",
       "    <tr>\n",
       "      <th>75%</th>\n",
       "      <td>1.000000</td>\n",
       "      <td>0.396833</td>\n",
       "      <td>0.000000</td>\n",
       "    </tr>\n",
       "    <tr>\n",
       "      <th>max</th>\n",
       "      <td>1.000000</td>\n",
       "      <td>0.761247</td>\n",
       "      <td>0.833333</td>\n",
       "    </tr>\n",
       "  </tbody>\n",
       "</table>\n",
       "</div>"
      ],
      "text/plain": [
       "           pclass         age       parch\n",
       "count  179.000000  179.000000  179.000000\n",
       "mean     0.670391    0.349295    0.070764\n",
       "std      0.417679    0.148310    0.152861\n",
       "min      0.000000    0.004147    0.000000\n",
       "25%      0.500000    0.271174    0.000000\n",
       "50%      1.000000    0.359135    0.000000\n",
       "75%      1.000000    0.396833    0.000000\n",
       "max      1.000000    0.761247    0.833333"
      ]
     },
     "execution_count": 37,
     "metadata": {},
     "output_type": "execute_result"
    }
   ],
   "source": [
    "xtest_mms_df.describe()"
   ]
  },
  {
   "cell_type": "code",
   "execution_count": 38,
   "metadata": {},
   "outputs": [
    {
     "data": {
      "text/plain": [
       "<seaborn.axisgrid.PairGrid at 0x23975864910>"
      ]
     },
     "execution_count": 38,
     "metadata": {},
     "output_type": "execute_result"
    },
    {
     "data": {
      "image/png": "[encoded data removed]",
      "text/plain": [
       "<Figure size 540x540 with 12 Axes>"
      ]
     },
     "metadata": {
      "needs_background": "light"
     },
     "output_type": "display_data"
    }
   ],
   "source": [
    "sns.pairplot(xtrain_mms_df)"
   ]
  },
  {
   "cell_type": "code",
   "execution_count": null,
   "metadata": {},
   "outputs": [],
   "source": []
  },
  {
   "cell_type": "markdown",
   "metadata": {},
   "source": [
    "# Comparing with Pair Plot"
   ]
  },
  {
   "cell_type": "code",
   "execution_count": 39,
   "metadata": {},
   "outputs": [
    {
     "data": {
      "text/plain": [
       "<seaborn.axisgrid.PairGrid at 0x23975e791c0>"
      ]
     },
     "execution_count": 39,
     "metadata": {},
     "output_type": "execute_result"
    },
    {
     "data": {
      "image/png": "[encoded data removed]",
      "text/plain": [
       "<Figure size 540x540 with 12 Axes>"
      ]
     },
     "metadata": {
      "needs_background": "light"
     },
     "output_type": "display_data"
    }
   ],
   "source": [
    "sns.pairplot(xtrain)"
   ]
  },
  {
   "cell_type": "code",
   "execution_count": 40,
   "metadata": {},
   "outputs": [
    {
     "data": {
      "text/plain": [
       "<seaborn.axisgrid.PairGrid at 0x23975e922b0>"
      ]
     },
     "execution_count": 40,
     "metadata": {},
     "output_type": "execute_result"
    },
    {
     "data": {
      "image/png": "[encoded data removed]",
      "text/plain": [
       "<Figure size 540x540 with 12 Axes>"
      ]
     },
     "metadata": {
      "needs_background": "light"
     },
     "output_type": "display_data"
    }
   ],
   "source": [
    "sns.pairplot(xtrain_sc_df)"
   ]
  },
  {
   "cell_type": "code",
   "execution_count": 41,
   "metadata": {},
   "outputs": [
    {
     "data": {
      "text/plain": [
       "<seaborn.axisgrid.PairGrid at 0x23977a94700>"
      ]
     },
     "execution_count": 41,
     "metadata": {},
     "output_type": "execute_result"
    },
    {
     "data": {
      "image/png": "[encoded data removed]",
      "text/plain": [
       "<Figure size 540x540 with 12 Axes>"
      ]
     },
     "metadata": {
      "needs_background": "light"
     },
     "output_type": "display_data"
    }
   ],
   "source": [
    "sns.pairplot(xtrain_mms_df)"
   ]
  },
  {
   "cell_type": "markdown",
   "metadata": {},
   "source": [
    "# Others Feature Engineering"
   ]
  },
  {
   "cell_type": "markdown",
   "metadata": {},
   "source": [
    "![title](image/Types_of_scaling.png)"
   ]
  },
  {
   "cell_type": "code",
   "execution_count": null,
   "metadata": {},
   "outputs": [],
   "source": []
  }
 ],
 "metadata": {
  "kernelspec": {
   "display_name": "Python 3",
   "language": "python",
   "name": "python3"
  },
  "language_info": {
   "codemirror_mode": {
    "name": "ipython",
    "version": 3
   },
   "file_extension": ".py",
   "mimetype": "text/x-python",
   "name": "python",
   "nbconvert_exporter": "python",
   "pygments_lexer": "ipython3",
   "version": "3.8.5"
  }
 },
 "nbformat": 4,
 "nbformat_minor": 4
}
